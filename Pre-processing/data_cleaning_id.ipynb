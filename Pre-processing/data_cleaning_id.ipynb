{
 "cells": [
  {
   "cell_type": "code",
   "execution_count": 1,
   "id": "cd7e21bb",
   "metadata": {},
   "outputs": [],
   "source": [
    "import pandas as pd"
   ]
  },
  {
   "cell_type": "code",
   "execution_count": 2,
   "id": "ce52a30b",
   "metadata": {},
   "outputs": [
    {
     "data": {
      "text/html": [
       "<div>\n",
       "<style scoped>\n",
       "    .dataframe tbody tr th:only-of-type {\n",
       "        vertical-align: middle;\n",
       "    }\n",
       "\n",
       "    .dataframe tbody tr th {\n",
       "        vertical-align: top;\n",
       "    }\n",
       "\n",
       "    .dataframe thead th {\n",
       "        text-align: right;\n",
       "    }\n",
       "</style>\n",
       "<table border=\"1\" class=\"dataframe\">\n",
       "  <thead>\n",
       "    <tr style=\"text-align: right;\">\n",
       "      <th></th>\n",
       "      <th>Date</th>\n",
       "      <th>Username</th>\n",
       "      <th>Tweet</th>\n",
       "    </tr>\n",
       "  </thead>\n",
       "  <tbody>\n",
       "    <tr>\n",
       "      <th>0</th>\n",
       "      <td>2021-11-29T23:54:51.000Z</td>\n",
       "      <td>mici626\\n@bruisedbadly\\nÂ·\\nNov 30, 2021</td>\n",
       "      <td>bikinnya harus di domisili iya, tapi selama ad...</td>\n",
       "    </tr>\n",
       "    <tr>\n",
       "      <th>1</th>\n",
       "      <td>2021-11-29T23:52:01.000Z</td>\n",
       "      <td>snoop\\n@peppreoni\\nÂ·\\nNov 30, 2021</td>\n",
       "      <td>Temenku weekend kemarin ada yg ke Bali sama ke...</td>\n",
       "    </tr>\n",
       "    <tr>\n",
       "      <th>2</th>\n",
       "      <td>2021-11-29T23:26:52.000Z</td>\n",
       "      <td>Tips Merawat Ternak\\n@merawatternak\\nÂ·\\nNov 3...</td>\n",
       "      <td>5. Kambing ini merupakan kambing asal pulau Ba...</td>\n",
       "    </tr>\n",
       "    <tr>\n",
       "      <th>3</th>\n",
       "      <td>2021-11-29T23:25:33.000Z</td>\n",
       "      <td>koko turner\\n@hyuckdiphile\\nÂ·\\nNov 30, 2021</td>\n",
       "      <td>kokoÂ² surabaya lagi liburan di Bali</td>\n",
       "    </tr>\n",
       "    <tr>\n",
       "      <th>4</th>\n",
       "      <td>2021-11-29T22:54:24.000Z</td>\n",
       "      <td>Nisa Fitriyani Sailolof\\n@NisaFit05651805\\nÂ·\\...</td>\n",
       "      <td>5 hotel nyaman harga Rp 100 ribu-an di Kuta, B...</td>\n",
       "    </tr>\n",
       "  </tbody>\n",
       "</table>\n",
       "</div>"
      ],
      "text/plain": [
       "                       Date  \\\n",
       "0  2021-11-29T23:54:51.000Z   \n",
       "1  2021-11-29T23:52:01.000Z   \n",
       "2  2021-11-29T23:26:52.000Z   \n",
       "3  2021-11-29T23:25:33.000Z   \n",
       "4  2021-11-29T22:54:24.000Z   \n",
       "\n",
       "                                            Username  \\\n",
       "0           mici626\\n@bruisedbadly\\nÂ·\\nNov 30, 2021   \n",
       "1                snoop\\n@peppreoni\\nÂ·\\nNov 30, 2021   \n",
       "2  Tips Merawat Ternak\\n@merawatternak\\nÂ·\\nNov 3...   \n",
       "3       koko turner\\n@hyuckdiphile\\nÂ·\\nNov 30, 2021   \n",
       "4  Nisa Fitriyani Sailolof\\n@NisaFit05651805\\nÂ·\\...   \n",
       "\n",
       "                                               Tweet  \n",
       "0  bikinnya harus di domisili iya, tapi selama ad...  \n",
       "1  Temenku weekend kemarin ada yg ke Bali sama ke...  \n",
       "2  5. Kambing ini merupakan kambing asal pulau Ba...  \n",
       "3              kokoÂ² surabaya lagi liburan di Bali   \n",
       "4  5 hotel nyaman harga Rp 100 ribu-an di Kuta, B...  "
      ]
     },
     "execution_count": 2,
     "metadata": {},
     "output_type": "execute_result"
    }
   ],
   "source": [
    "df = pd.read_csv('dirty-id.csv', encoding = 'latin-1')\n",
    "df.head()"
   ]
  },
  {
   "cell_type": "code",
   "execution_count": 3,
   "id": "f243c9f2",
   "metadata": {},
   "outputs": [
    {
     "name": "stdout",
     "output_type": "stream",
     "text": [
      "<class 'pandas.core.frame.DataFrame'>\n",
      "RangeIndex: 54259 entries, 0 to 54258\n",
      "Data columns (total 3 columns):\n",
      " #   Column    Non-Null Count  Dtype \n",
      "---  ------    --------------  ----- \n",
      " 0   Date      54259 non-null  object\n",
      " 1   Username  54259 non-null  object\n",
      " 2   Tweet     54259 non-null  object\n",
      "dtypes: object(3)\n",
      "memory usage: 1.2+ MB\n"
     ]
    }
   ],
   "source": [
    "df.info()"
   ]
  },
  {
   "cell_type": "code",
   "execution_count": 4,
   "id": "4e30d183",
   "metadata": {},
   "outputs": [],
   "source": [
    "df.drop_duplicates(inplace = True)"
   ]
  },
  {
   "cell_type": "code",
   "execution_count": 5,
   "id": "78b82894",
   "metadata": {},
   "outputs": [
    {
     "name": "stdout",
     "output_type": "stream",
     "text": [
      "<class 'pandas.core.frame.DataFrame'>\n",
      "Int64Index: 45018 entries, 0 to 54258\n",
      "Data columns (total 3 columns):\n",
      " #   Column    Non-Null Count  Dtype \n",
      "---  ------    --------------  ----- \n",
      " 0   Date      45018 non-null  object\n",
      " 1   Username  45018 non-null  object\n",
      " 2   Tweet     45018 non-null  object\n",
      "dtypes: object(3)\n",
      "memory usage: 1.4+ MB\n"
     ]
    }
   ],
   "source": [
    "df.info()"
   ]
  },
  {
   "cell_type": "code",
   "execution_count": 6,
   "id": "fb6a6513",
   "metadata": {},
   "outputs": [
    {
     "data": {
      "text/html": [
       "<div>\n",
       "<style scoped>\n",
       "    .dataframe tbody tr th:only-of-type {\n",
       "        vertical-align: middle;\n",
       "    }\n",
       "\n",
       "    .dataframe tbody tr th {\n",
       "        vertical-align: top;\n",
       "    }\n",
       "\n",
       "    .dataframe thead th {\n",
       "        text-align: right;\n",
       "    }\n",
       "</style>\n",
       "<table border=\"1\" class=\"dataframe\">\n",
       "  <thead>\n",
       "    <tr style=\"text-align: right;\">\n",
       "      <th></th>\n",
       "      <th>Date</th>\n",
       "      <th>Username</th>\n",
       "      <th>Tweet</th>\n",
       "    </tr>\n",
       "  </thead>\n",
       "  <tbody>\n",
       "    <tr>\n",
       "      <th>0</th>\n",
       "      <td>2021-11-29T23:54:51.000Z</td>\n",
       "      <td>mici626\\n@bruisedbadly\\nÂ·\\nNov 30, 2021</td>\n",
       "      <td>bikinnya harus di domisili iya, tapi selama ad...</td>\n",
       "    </tr>\n",
       "    <tr>\n",
       "      <th>1</th>\n",
       "      <td>2021-11-29T23:52:01.000Z</td>\n",
       "      <td>snoop\\n@peppreoni\\nÂ·\\nNov 30, 2021</td>\n",
       "      <td>Temenku weekend kemarin ada yg ke Bali sama ke...</td>\n",
       "    </tr>\n",
       "    <tr>\n",
       "      <th>2</th>\n",
       "      <td>2021-11-29T23:26:52.000Z</td>\n",
       "      <td>Tips Merawat Ternak\\n@merawatternak\\nÂ·\\nNov 3...</td>\n",
       "      <td>5. Kambing ini merupakan kambing asal pulau Ba...</td>\n",
       "    </tr>\n",
       "    <tr>\n",
       "      <th>3</th>\n",
       "      <td>2021-11-29T23:25:33.000Z</td>\n",
       "      <td>koko turner\\n@hyuckdiphile\\nÂ·\\nNov 30, 2021</td>\n",
       "      <td>kokoÂ² surabaya lagi liburan di Bali</td>\n",
       "    </tr>\n",
       "    <tr>\n",
       "      <th>4</th>\n",
       "      <td>2021-11-29T22:54:24.000Z</td>\n",
       "      <td>Nisa Fitriyani Sailolof\\n@NisaFit05651805\\nÂ·\\...</td>\n",
       "      <td>5 hotel nyaman harga Rp 100 ribu-an di Kuta, B...</td>\n",
       "    </tr>\n",
       "  </tbody>\n",
       "</table>\n",
       "</div>"
      ],
      "text/plain": [
       "                       Date  \\\n",
       "0  2021-11-29T23:54:51.000Z   \n",
       "1  2021-11-29T23:52:01.000Z   \n",
       "2  2021-11-29T23:26:52.000Z   \n",
       "3  2021-11-29T23:25:33.000Z   \n",
       "4  2021-11-29T22:54:24.000Z   \n",
       "\n",
       "                                            Username  \\\n",
       "0           mici626\\n@bruisedbadly\\nÂ·\\nNov 30, 2021   \n",
       "1                snoop\\n@peppreoni\\nÂ·\\nNov 30, 2021   \n",
       "2  Tips Merawat Ternak\\n@merawatternak\\nÂ·\\nNov 3...   \n",
       "3       koko turner\\n@hyuckdiphile\\nÂ·\\nNov 30, 2021   \n",
       "4  Nisa Fitriyani Sailolof\\n@NisaFit05651805\\nÂ·\\...   \n",
       "\n",
       "                                               Tweet  \n",
       "0  bikinnya harus di domisili iya, tapi selama ad...  \n",
       "1  Temenku weekend kemarin ada yg ke Bali sama ke...  \n",
       "2  5. Kambing ini merupakan kambing asal pulau Ba...  \n",
       "3              kokoÂ² surabaya lagi liburan di Bali   \n",
       "4  5 hotel nyaman harga Rp 100 ribu-an di Kuta, B...  "
      ]
     },
     "execution_count": 6,
     "metadata": {},
     "output_type": "execute_result"
    }
   ],
   "source": [
    "df.head()"
   ]
  },
  {
   "cell_type": "code",
   "execution_count": 7,
   "id": "a53f57ee",
   "metadata": {},
   "outputs": [],
   "source": [
    "import re\n",
    "from nltk.tokenize import word_tokenize"
   ]
  },
  {
   "cell_type": "code",
   "execution_count": 8,
   "id": "f9696563",
   "metadata": {},
   "outputs": [],
   "source": [
    "def tweet_cleansing(tweet):\n",
    "    tweet = tweet.lower()\n",
    "    tweet = tweet.replace(',', '')\n",
    "    tweet = re.sub('(www\\.[^\\s]+ | (https?://[^\\s]+))', 'URL', tweet)\n",
    "    tweet = re.sub('[^\\w]', ' ', tweet)\n",
    "    tweet = re.sub('@[^\\s]+', 'AT_USER', tweet)\n",
    "    tweet = re.sub('#([^\\s]+)', '\\1', tweet)\n",
    "    tweet = tweet.strip('\\'\"')\n",
    "    return tweet"
   ]
  },
  {
   "cell_type": "code",
   "execution_count": 9,
   "id": "3b5369d6",
   "metadata": {},
   "outputs": [],
   "source": [
    "df['cleaned_tweet'] = df.Tweet.apply(tweet_cleansing).values\n",
    "df['cleaned_tweet'] = df.cleaned_tweet.apply(lambda x: ' '.join([j for j in x.split() if len(j)>3]))"
   ]
  },
  {
   "cell_type": "code",
   "execution_count": 10,
   "id": "dd9b5d37",
   "metadata": {},
   "outputs": [],
   "source": [
    "df['len_words'] = df.cleaned_tweet.apply(lambda x: len(x))"
   ]
  },
  {
   "cell_type": "code",
   "execution_count": 11,
   "id": "9f6d6a26",
   "metadata": {},
   "outputs": [],
   "source": [
    "from Sastrawi.Stemmer.StemmerFactory import StemmerFactory\n",
    "from Sastrawi.StopWordRemover.StopWordRemoverFactory import StopWordRemoverFactory\n",
    "from nltk.stem import WordNetLemmatizer"
   ]
  },
  {
   "cell_type": "code",
   "execution_count": 12,
   "id": "741ac2d1",
   "metadata": {},
   "outputs": [],
   "source": [
    "factory = StemmerFactory()\n",
    "stemmer = factory.create_stemmer()\n",
    "\n",
    "stop_factory = StopWordRemoverFactory()\n",
    "stopword = stop_factory.create_stop_word_remover()"
   ]
  },
  {
   "cell_type": "code",
   "execution_count": 13,
   "id": "458aacc6",
   "metadata": {},
   "outputs": [],
   "source": [
    "kata_slang = pd.read_csv('twitter_dict.csv')"
   ]
  },
  {
   "cell_type": "code",
   "execution_count": 14,
   "id": "90f37bc8",
   "metadata": {},
   "outputs": [],
   "source": [
    "def replace_slang(Tweet):\n",
    "    Tweet = Tweet.lower()\n",
    "    res = ''\n",
    "    for item in Tweet.split():\n",
    "        if item in kata_slang.slang.values:\n",
    "            res += kata_slang[kata_slang['slang'] == item]['formal'].iloc[0]\n",
    "        else:\n",
    "            res += item\n",
    "        res += ' '\n",
    "    return res\n",
    "\n",
    "def tokenizerku(tweet):\n",
    "    words = word_tokenize(tweet)\n",
    "    tokens = []\n",
    "    for i in words:\n",
    "        pattern = re.compile(r\"(.)\\1{1,}\", re.DOTALL)\n",
    "        i = pattern.sub(r\"\\1\\1\", i)\n",
    "        i = i.strip('\\'\"?,.')\n",
    "        alp = re.search(r\"^[a-zA-Z0-9][a-zA-Z0-9-]*$\", i)\n",
    "        if(i in ['AT_USER', 'URL'] or alp is None):\n",
    "            continue\n",
    "        else:\n",
    "            i = WordNetLemmatizer().lemmatize(i)\n",
    "            tokens.append(i.lower())\n",
    "    return tokens"
   ]
  },
  {
   "cell_type": "code",
   "execution_count": 15,
   "id": "c36d990b",
   "metadata": {},
   "outputs": [
    {
     "data": {
      "text/plain": [
       "Index(['Date', 'Username', 'Tweet', 'cleaned_tweet', 'len_words'], dtype='object')"
      ]
     },
     "execution_count": 15,
     "metadata": {},
     "output_type": "execute_result"
    }
   ],
   "source": [
    "df.columns"
   ]
  },
  {
   "cell_type": "code",
   "execution_count": 16,
   "id": "8cdb358c",
   "metadata": {},
   "outputs": [],
   "source": [
    "df['cleaned_tweet'] = df.cleaned_tweet.apply(replace_slang)\n",
    "df['cleaned_tweet'] = df.cleaned_tweet.apply(lambda x : stopword.remove(x))\n",
    "df['cleaned_tweet'] = df.cleaned_tweet.apply(lambda x : stemmer.stem(x))"
   ]
  },
  {
   "cell_type": "code",
   "execution_count": 17,
   "id": "0aa3e36d",
   "metadata": {},
   "outputs": [
    {
     "data": {
      "text/html": [
       "<div>\n",
       "<style scoped>\n",
       "    .dataframe tbody tr th:only-of-type {\n",
       "        vertical-align: middle;\n",
       "    }\n",
       "\n",
       "    .dataframe tbody tr th {\n",
       "        vertical-align: top;\n",
       "    }\n",
       "\n",
       "    .dataframe thead th {\n",
       "        text-align: right;\n",
       "    }\n",
       "</style>\n",
       "<table border=\"1\" class=\"dataframe\">\n",
       "  <thead>\n",
       "    <tr style=\"text-align: right;\">\n",
       "      <th></th>\n",
       "      <th>Date</th>\n",
       "      <th>Username</th>\n",
       "      <th>Tweet</th>\n",
       "      <th>cleaned_tweet</th>\n",
       "      <th>len_words</th>\n",
       "    </tr>\n",
       "  </thead>\n",
       "  <tbody>\n",
       "    <tr>\n",
       "      <th>0</th>\n",
       "      <td>2021-11-29T23:54:51.000Z</td>\n",
       "      <td>mici626\\n@bruisedbadly\\nÂ·\\nNov 30, 2021</td>\n",
       "      <td>bikinnya harus di domisili iya, tapi selama ad...</td>\n",
       "      <td>bikin domisili lama foto bekas siapa tempat do...</td>\n",
       "      <td>198</td>\n",
       "    </tr>\n",
       "    <tr>\n",
       "      <th>1</th>\n",
       "      <td>2021-11-29T23:52:01.000Z</td>\n",
       "      <td>snoop\\n@peppreoni\\nÂ·\\nNov 30, 2021</td>\n",
       "      <td>Temenku weekend kemarin ada yg ke Bali sama ke...</td>\n",
       "      <td>temenku weekend kemarin bal sama jogja jadi pe...</td>\n",
       "      <td>74</td>\n",
       "    </tr>\n",
       "    <tr>\n",
       "      <th>2</th>\n",
       "      <td>2021-11-29T23:26:52.000Z</td>\n",
       "      <td>Tips Merawat Ternak\\n@merawatternak\\nÂ·\\nNov 3...</td>\n",
       "      <td>5. Kambing ini merupakan kambing asal pulau Ba...</td>\n",
       "      <td>kambing rupa kambing asal pulau bal hambir punah</td>\n",
       "      <td>54</td>\n",
       "    </tr>\n",
       "    <tr>\n",
       "      <th>3</th>\n",
       "      <td>2021-11-29T23:25:33.000Z</td>\n",
       "      <td>koko turner\\n@hyuckdiphile\\nÂ·\\nNov 30, 2021</td>\n",
       "      <td>kokoÂ² surabaya lagi liburan di Bali</td>\n",
       "      <td>koko surabaya libur bal</td>\n",
       "      <td>33</td>\n",
       "    </tr>\n",
       "    <tr>\n",
       "      <th>4</th>\n",
       "      <td>2021-11-29T22:54:24.000Z</td>\n",
       "      <td>Nisa Fitriyani Sailolof\\n@NisaFit05651805\\nÂ·\\...</td>\n",
       "      <td>5 hotel nyaman harga Rp 100 ribu-an di Kuta, B...</td>\n",
       "      <td>hotel nyaman harga ribu kuta bal bal kuta prom...</td>\n",
       "      <td>86</td>\n",
       "    </tr>\n",
       "  </tbody>\n",
       "</table>\n",
       "</div>"
      ],
      "text/plain": [
       "                       Date  \\\n",
       "0  2021-11-29T23:54:51.000Z   \n",
       "1  2021-11-29T23:52:01.000Z   \n",
       "2  2021-11-29T23:26:52.000Z   \n",
       "3  2021-11-29T23:25:33.000Z   \n",
       "4  2021-11-29T22:54:24.000Z   \n",
       "\n",
       "                                            Username  \\\n",
       "0           mici626\\n@bruisedbadly\\nÂ·\\nNov 30, 2021   \n",
       "1                snoop\\n@peppreoni\\nÂ·\\nNov 30, 2021   \n",
       "2  Tips Merawat Ternak\\n@merawatternak\\nÂ·\\nNov 3...   \n",
       "3       koko turner\\n@hyuckdiphile\\nÂ·\\nNov 30, 2021   \n",
       "4  Nisa Fitriyani Sailolof\\n@NisaFit05651805\\nÂ·\\...   \n",
       "\n",
       "                                               Tweet  \\\n",
       "0  bikinnya harus di domisili iya, tapi selama ad...   \n",
       "1  Temenku weekend kemarin ada yg ke Bali sama ke...   \n",
       "2  5. Kambing ini merupakan kambing asal pulau Ba...   \n",
       "3              kokoÂ² surabaya lagi liburan di Bali    \n",
       "4  5 hotel nyaman harga Rp 100 ribu-an di Kuta, B...   \n",
       "\n",
       "                                       cleaned_tweet  len_words  \n",
       "0  bikin domisili lama foto bekas siapa tempat do...        198  \n",
       "1  temenku weekend kemarin bal sama jogja jadi pe...         74  \n",
       "2   kambing rupa kambing asal pulau bal hambir punah         54  \n",
       "3                            koko surabaya libur bal         33  \n",
       "4  hotel nyaman harga ribu kuta bal bal kuta prom...         86  "
      ]
     },
     "execution_count": 17,
     "metadata": {},
     "output_type": "execute_result"
    }
   ],
   "source": [
    "df.head()"
   ]
  },
  {
   "cell_type": "code",
   "execution_count": 18,
   "id": "1f1b7703",
   "metadata": {},
   "outputs": [],
   "source": [
    "def tokenized_text(tweet):\n",
    "    tokenized_text = tweet.split()\n",
    "    return tokenized_text\n",
    "df['tokens'] = df['cleaned_tweet'].apply(lambda x: tokenized_text(x))"
   ]
  },
  {
   "cell_type": "code",
   "execution_count": 19,
   "id": "83dd51b3",
   "metadata": {},
   "outputs": [
    {
     "data": {
      "text/html": [
       "<div>\n",
       "<style scoped>\n",
       "    .dataframe tbody tr th:only-of-type {\n",
       "        vertical-align: middle;\n",
       "    }\n",
       "\n",
       "    .dataframe tbody tr th {\n",
       "        vertical-align: top;\n",
       "    }\n",
       "\n",
       "    .dataframe thead th {\n",
       "        text-align: right;\n",
       "    }\n",
       "</style>\n",
       "<table border=\"1\" class=\"dataframe\">\n",
       "  <thead>\n",
       "    <tr style=\"text-align: right;\">\n",
       "      <th></th>\n",
       "      <th>Date</th>\n",
       "      <th>Username</th>\n",
       "      <th>Tweet</th>\n",
       "      <th>cleaned_tweet</th>\n",
       "      <th>len_words</th>\n",
       "      <th>tokens</th>\n",
       "    </tr>\n",
       "  </thead>\n",
       "  <tbody>\n",
       "    <tr>\n",
       "      <th>0</th>\n",
       "      <td>2021-11-29T23:54:51.000Z</td>\n",
       "      <td>mici626\\n@bruisedbadly\\nÂ·\\nNov 30, 2021</td>\n",
       "      <td>bikinnya harus di domisili iya, tapi selama ad...</td>\n",
       "      <td>bikin domisili lama foto bekas siapa tempat do...</td>\n",
       "      <td>198</td>\n",
       "      <td>[bikin, domisili, lama, foto, bekas, siapa, te...</td>\n",
       "    </tr>\n",
       "    <tr>\n",
       "      <th>1</th>\n",
       "      <td>2021-11-29T23:52:01.000Z</td>\n",
       "      <td>snoop\\n@peppreoni\\nÂ·\\nNov 30, 2021</td>\n",
       "      <td>Temenku weekend kemarin ada yg ke Bali sama ke...</td>\n",
       "      <td>temenku weekend kemarin bal sama jogja jadi pe...</td>\n",
       "      <td>74</td>\n",
       "      <td>[temenku, weekend, kemarin, bal, sama, jogja, ...</td>\n",
       "    </tr>\n",
       "    <tr>\n",
       "      <th>2</th>\n",
       "      <td>2021-11-29T23:26:52.000Z</td>\n",
       "      <td>Tips Merawat Ternak\\n@merawatternak\\nÂ·\\nNov 3...</td>\n",
       "      <td>5. Kambing ini merupakan kambing asal pulau Ba...</td>\n",
       "      <td>kambing rupa kambing asal pulau bal hambir punah</td>\n",
       "      <td>54</td>\n",
       "      <td>[kambing, rupa, kambing, asal, pulau, bal, ham...</td>\n",
       "    </tr>\n",
       "    <tr>\n",
       "      <th>3</th>\n",
       "      <td>2021-11-29T23:25:33.000Z</td>\n",
       "      <td>koko turner\\n@hyuckdiphile\\nÂ·\\nNov 30, 2021</td>\n",
       "      <td>kokoÂ² surabaya lagi liburan di Bali</td>\n",
       "      <td>koko surabaya libur bal</td>\n",
       "      <td>33</td>\n",
       "      <td>[koko, surabaya, libur, bal]</td>\n",
       "    </tr>\n",
       "    <tr>\n",
       "      <th>4</th>\n",
       "      <td>2021-11-29T22:54:24.000Z</td>\n",
       "      <td>Nisa Fitriyani Sailolof\\n@NisaFit05651805\\nÂ·\\...</td>\n",
       "      <td>5 hotel nyaman harga Rp 100 ribu-an di Kuta, B...</td>\n",
       "      <td>hotel nyaman harga ribu kuta bal bal kuta prom...</td>\n",
       "      <td>86</td>\n",
       "      <td>[hotel, nyaman, harga, ribu, kuta, bal, bal, k...</td>\n",
       "    </tr>\n",
       "  </tbody>\n",
       "</table>\n",
       "</div>"
      ],
      "text/plain": [
       "                       Date  \\\n",
       "0  2021-11-29T23:54:51.000Z   \n",
       "1  2021-11-29T23:52:01.000Z   \n",
       "2  2021-11-29T23:26:52.000Z   \n",
       "3  2021-11-29T23:25:33.000Z   \n",
       "4  2021-11-29T22:54:24.000Z   \n",
       "\n",
       "                                            Username  \\\n",
       "0           mici626\\n@bruisedbadly\\nÂ·\\nNov 30, 2021   \n",
       "1                snoop\\n@peppreoni\\nÂ·\\nNov 30, 2021   \n",
       "2  Tips Merawat Ternak\\n@merawatternak\\nÂ·\\nNov 3...   \n",
       "3       koko turner\\n@hyuckdiphile\\nÂ·\\nNov 30, 2021   \n",
       "4  Nisa Fitriyani Sailolof\\n@NisaFit05651805\\nÂ·\\...   \n",
       "\n",
       "                                               Tweet  \\\n",
       "0  bikinnya harus di domisili iya, tapi selama ad...   \n",
       "1  Temenku weekend kemarin ada yg ke Bali sama ke...   \n",
       "2  5. Kambing ini merupakan kambing asal pulau Ba...   \n",
       "3              kokoÂ² surabaya lagi liburan di Bali    \n",
       "4  5 hotel nyaman harga Rp 100 ribu-an di Kuta, B...   \n",
       "\n",
       "                                       cleaned_tweet  len_words  \\\n",
       "0  bikin domisili lama foto bekas siapa tempat do...        198   \n",
       "1  temenku weekend kemarin bal sama jogja jadi pe...         74   \n",
       "2   kambing rupa kambing asal pulau bal hambir punah         54   \n",
       "3                            koko surabaya libur bal         33   \n",
       "4  hotel nyaman harga ribu kuta bal bal kuta prom...         86   \n",
       "\n",
       "                                              tokens  \n",
       "0  [bikin, domisili, lama, foto, bekas, siapa, te...  \n",
       "1  [temenku, weekend, kemarin, bal, sama, jogja, ...  \n",
       "2  [kambing, rupa, kambing, asal, pulau, bal, ham...  \n",
       "3                       [koko, surabaya, libur, bal]  \n",
       "4  [hotel, nyaman, harga, ribu, kuta, bal, bal, k...  "
      ]
     },
     "execution_count": 19,
     "metadata": {},
     "output_type": "execute_result"
    }
   ],
   "source": [
    "df.head()"
   ]
  },
  {
   "cell_type": "code",
   "execution_count": 20,
   "id": "89f87824",
   "metadata": {},
   "outputs": [],
   "source": [
    "df = pd.DataFrame(df)\n",
    "df.to_csv(\"id-cleaned-tweet.csv\")"
   ]
  },
  {
   "cell_type": "code",
   "execution_count": null,
   "id": "d3f4e522",
   "metadata": {},
   "outputs": [],
   "source": []
  }
 ],
 "metadata": {
  "kernelspec": {
   "display_name": "Python 3",
   "language": "python",
   "name": "python3"
  },
  "language_info": {
   "codemirror_mode": {
    "name": "ipython",
    "version": 3
   },
   "file_extension": ".py",
   "mimetype": "text/x-python",
   "name": "python",
   "nbconvert_exporter": "python",
   "pygments_lexer": "ipython3",
   "version": "3.8.8"
  }
 },
 "nbformat": 4,
 "nbformat_minor": 5
}
