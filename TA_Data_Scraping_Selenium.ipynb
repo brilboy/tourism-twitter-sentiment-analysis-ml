{
 "cells": [
  {
   "cell_type": "markdown",
   "id": "67b9421b",
   "metadata": {},
   "source": [
    "# Install Libraries"
   ]
  },
  {
   "cell_type": "code",
   "execution_count": 2,
   "id": "6b47c462",
   "metadata": {
    "scrolled": true
   },
   "outputs": [
    {
     "name": "stderr",
     "output_type": "stream",
     "text": [
      "<ipython-input-2-4c0a0b04bfe5>:19: DeprecationWarning: executable_path has been deprecated, please pass in a Service object\n",
      "  driver = webdriver.Edge(PATH)\n"
     ]
    }
   ],
   "source": [
    "import selenium\n",
    "from selenium import webdriver\n",
    "from selenium.webdriver.common.by import By\n",
    "from selenium.webdriver.common.keys import Keys\n",
    "from time import sleep\n",
    "\n",
    "#chrome_options = webdriver.ChromeOptions()\n",
    "#chrome_options.add_argument(\"--headless\")\n",
    "#chrome_options.add_argument(\"--no-sandbox\")\n",
    "#chrome_options.add_argument(\"--disable-dev-shm-usage\")\n",
    "#driver = webdriver.Chrome(\"chromedriver\", chrome_options = chrome_options)\n",
    "\n",
    "from selenium.webdriver.edge.service import Service\n",
    "from selenium.webdriver.edge.options import Options\n",
    "\n",
    "#user_agent = \"Mozilla/5.0 (Windows NT 10.0; Win64; x64) AppleWebKit/537.36 (KHTML, like Gecko) Chrome/109.0.0.0\"\n",
    "\n",
    "PATH = \"C:/Users/Ahmad Jibril H/Downloads/msedgedriver.exe\"\n",
    "driver = webdriver.Edge(PATH)\n",
    "driver.get(\"https://twitter.com/login\")"
   ]
  },
  {
   "cell_type": "code",
   "execution_count": 133,
   "id": "0c33d3da",
   "metadata": {},
   "outputs": [],
   "source": [
    "#user_agent = \"Mozilla/5.0 (Windows NT 10.0; Win64; x64) AppleWebKit/537.36 (KHTML, like Gecko) Chrome/109.0.0.0\"\n",
    "\n",
    "#PATH = \"C:/Users/Ahmad Jibril H/Downloads/msedgedriver.exe\"\n",
    "#edge_service = Service(PATH)\n",
    "#edge_options = Options()\n",
    "#edge_options.add_argument(f'user-agent = {user_agent}')\n",
    "\n",
    "#browser = webdriver.Edge(service = edge_service, options = edge_options)\n",
    "#browser.get(\"https://twitter.com/login\")"
   ]
  },
  {
   "cell_type": "markdown",
   "id": "81de07f3",
   "metadata": {},
   "source": [
    "# Login Setup"
   ]
  },
  {
   "cell_type": "code",
   "execution_count": 3,
   "id": "bad3bc51",
   "metadata": {},
   "outputs": [],
   "source": [
    "# Username\n",
    "sleep(3)\n",
    "username = driver.find_element(By.XPATH, \"//input[@name='text']\")\n",
    "username.send_keys(\"hard_third_time\")\n",
    "next_button = driver.find_element(By.XPATH, \"//span[contains(text(), 'Next')]\")\n",
    "next_button.click()\n",
    "\n",
    "# Password\n",
    "sleep(3)\n",
    "password = driver.find_element(By.XPATH, \"//input[@name='password']\")\n",
    "password.send_keys(\"Gem1niPutih\")\n",
    "next_button = driver.find_element(By.XPATH, \"//span[contains(text(), 'Log in')]\")\n",
    "next_button.click()"
   ]
  },
  {
   "cell_type": "markdown",
   "id": "c1041f9a",
   "metadata": {},
   "source": [
    "# Data Scraping"
   ]
  },
  {
   "cell_type": "code",
   "execution_count": 5,
   "id": "ef146cf2",
   "metadata": {},
   "outputs": [],
   "source": [
    "# Delete Searchbar\n",
    "search = driver.find_element(By.XPATH, \"//input[@data-testid='SearchBox_Search_Input']\")\n",
    "search.send_keys(Keys.CONTROL + 'a', Keys.BACKSPACE)\n",
    "\n",
    "# Search\n",
    "keyword = \"'bali' (travel OR tourist OR trip OR tour OR vacation OR dance OR photo OR landmark OR temple OR journey OR culture OR island OR beach) lang:en until:2022-08-17 since:2022-08-01\"\n",
    "sleep(4)\n",
    "search = driver.find_element(By.XPATH, \"//input[@data-testid='SearchBox_Search_Input']\")\n",
    "search.send_keys(keyword)\n",
    "search.send_keys(Keys.ENTER)"
   ]
  },
  {
   "cell_type": "code",
   "execution_count": 7,
   "id": "ef19683e",
   "metadata": {},
   "outputs": [],
   "source": [
    "# Latest Switch\n",
    "latest = driver.find_element(By.XPATH, \"//span[contains(text(), 'Latest')]\")\n",
    "latest.click()"
   ]
  },
  {
   "cell_type": "code",
   "execution_count": 12,
   "id": "72462a08",
   "metadata": {
    "scrolled": true
   },
   "outputs": [
    {
     "ename": "WebDriverException",
     "evalue": "Message: unknown error: unhandled inspector error: {\"code\":-32000,\"message\":\"No node with given id found\"}\n  (Session info: MicrosoftEdge=114.0.1823.51)\nStacktrace:\nBacktrace:\n\tGetHandleVerifier [0x00007FF74A82A8E2+64226]\n\tMicrosoft::Applications::Events::EventProperty::~EventProperty [0x00007FF74A7BBAB2+771122]\n\t(No symbol) [0x00007FF74A57CC3C]\n\t(No symbol) [0x00007FF74A569266]\n\t(No symbol) [0x00007FF74A5672C9]\n\t(No symbol) [0x00007FF74A567961]\n\t(No symbol) [0x00007FF74A567890]\n\t(No symbol) [0x00007FF74A58C75D]\n\t(No symbol) [0x00007FF74A58D0D8]\n\t(No symbol) [0x00007FF74A5821CB]\n\t(No symbol) [0x00007FF74A5806A1]\n\t(No symbol) [0x00007FF74A583A44]\n\t(No symbol) [0x00007FF74A583B30]\n\t(No symbol) [0x00007FF74A5C0766]\n\t(No symbol) [0x00007FF74A5C0D5A]\n\t(No symbol) [0x00007FF74A5B4C1C]\n\t(No symbol) [0x00007FF74A5DF02F]\n\t(No symbol) [0x00007FF74A5B4BA1]\n\t(No symbol) [0x00007FF74A5B4A71]\n\t(No symbol) [0x00007FF74A5DF320]\n\t(No symbol) [0x00007FF74A5B4BA1]\n\t(No symbol) [0x00007FF74A5F7FB1]\n\t(No symbol) [0x00007FF74A5DEDC3]\n\t(No symbol) [0x00007FF74A5B3BDC]\n\t(No symbol) [0x00007FF74A5B2DC6]\n\t(No symbol) [0x00007FF74A5B4354]\n\tMicrosoft::Applications::Events::ILogManager::DispatchEventBroadcast [0x00007FF74AA081E9+1319033]\n\t(No symbol) [0x00007FF74A62C048]\n\tMicrosoft::Applications::Events::EventProperty::~EventProperty [0x00007FF74A707991+33553]\n\tMicrosoft::Applications::Events::EventProperty::~EventProperty [0x00007FF74A6FFDCF+1871]\n\tMicrosoft::Applications::Events::ILogManager::DispatchEventBroadcast [0x00007FF74AA06E03+1313939]\n\tMicrosoft::Applications::Events::ILogConfiguration::operator* [0x00007FF74A7C40E8+20232]\n\tMicrosoft::Applications::Events::ILogConfiguration::operator* [0x00007FF74A7C0704+5412]\n\tMicrosoft::Applications::Events::ILogConfiguration::operator* [0x00007FF74A7C07FC+5660]\n\tMicrosoft::Applications::Events::EventProperty::~EventProperty [0x00007FF74A7B44B1+740913]\n\tBaseThreadInitThunk [0x00007FFC1DCA26AD+29]\n\tRtlUserThreadStart [0x00007FFC1E04A9F8+40]\n",
     "output_type": "error",
     "traceback": [
      "\u001b[1;31m---------------------------------------------------------------------------\u001b[0m",
      "\u001b[1;31mWebDriverException\u001b[0m                        Traceback (most recent call last)",
      "\u001b[1;32m<ipython-input-12-e43f9a7090ea>\u001b[0m in \u001b[0;36m<module>\u001b[1;34m\u001b[0m\n\u001b[0;32m      5\u001b[0m \u001b[1;32mwhile\u001b[0m \u001b[1;32mTrue\u001b[0m\u001b[1;33m:\u001b[0m\u001b[1;33m\u001b[0m\u001b[1;33m\u001b[0m\u001b[0m\n\u001b[0;32m      6\u001b[0m     \u001b[1;32mfor\u001b[0m \u001b[0mtweet\u001b[0m \u001b[1;32min\u001b[0m \u001b[0mcontent\u001b[0m\u001b[1;33m:\u001b[0m\u001b[1;33m\u001b[0m\u001b[1;33m\u001b[0m\u001b[0m\n\u001b[1;32m----> 7\u001b[1;33m         \u001b[0mdate\u001b[0m \u001b[1;33m=\u001b[0m \u001b[0mtweet\u001b[0m\u001b[1;33m.\u001b[0m\u001b[0mfind_element\u001b[0m\u001b[1;33m(\u001b[0m\u001b[0mBy\u001b[0m\u001b[1;33m.\u001b[0m\u001b[0mXPATH\u001b[0m\u001b[1;33m,\u001b[0m \u001b[1;34m\".//time\"\u001b[0m\u001b[1;33m)\u001b[0m\u001b[1;33m.\u001b[0m\u001b[0mget_attribute\u001b[0m\u001b[1;33m(\u001b[0m\u001b[1;34m'datetime'\u001b[0m\u001b[1;33m)\u001b[0m\u001b[1;33m\u001b[0m\u001b[1;33m\u001b[0m\u001b[0m\n\u001b[0m\u001b[0;32m      8\u001b[0m         \u001b[0muser_username\u001b[0m \u001b[1;33m=\u001b[0m \u001b[0mtweet\u001b[0m\u001b[1;33m.\u001b[0m\u001b[0mfind_element\u001b[0m\u001b[1;33m(\u001b[0m\u001b[0mBy\u001b[0m\u001b[1;33m.\u001b[0m\u001b[0mXPATH\u001b[0m\u001b[1;33m,\u001b[0m \u001b[1;34m\".//div[@data-testid='User-Name']\"\u001b[0m\u001b[1;33m)\u001b[0m\u001b[1;33m.\u001b[0m\u001b[0mtext\u001b[0m\u001b[1;33m\u001b[0m\u001b[1;33m\u001b[0m\u001b[0m\n\u001b[0;32m      9\u001b[0m         \u001b[0mtweet_text\u001b[0m \u001b[1;33m=\u001b[0m \u001b[0mtweet\u001b[0m\u001b[1;33m.\u001b[0m\u001b[0mfind_element\u001b[0m\u001b[1;33m(\u001b[0m\u001b[0mBy\u001b[0m\u001b[1;33m.\u001b[0m\u001b[0mXPATH\u001b[0m\u001b[1;33m,\u001b[0m \u001b[1;34m\".//div[@data-testid='tweetText']\"\u001b[0m\u001b[1;33m)\u001b[0m\u001b[1;33m.\u001b[0m\u001b[0mtext\u001b[0m\u001b[1;33m\u001b[0m\u001b[1;33m\u001b[0m\u001b[0m\n",
      "\u001b[1;32mC:\\anaconda3\\lib\\site-packages\\selenium\\webdriver\\remote\\webelement.py\u001b[0m in \u001b[0;36mfind_element\u001b[1;34m(self, by, value)\u001b[0m\n\u001b[0;32m    417\u001b[0m             \u001b[0mvalue\u001b[0m \u001b[1;33m=\u001b[0m \u001b[1;34m'[name=\"%s\"]'\u001b[0m \u001b[1;33m%\u001b[0m \u001b[0mvalue\u001b[0m\u001b[1;33m\u001b[0m\u001b[1;33m\u001b[0m\u001b[0m\n\u001b[0;32m    418\u001b[0m \u001b[1;33m\u001b[0m\u001b[0m\n\u001b[1;32m--> 419\u001b[1;33m         return self._execute(Command.FIND_CHILD_ELEMENT,\n\u001b[0m\u001b[0;32m    420\u001b[0m                              {\"using\": by, \"value\": value})['value']\n\u001b[0;32m    421\u001b[0m \u001b[1;33m\u001b[0m\u001b[0m\n",
      "\u001b[1;32mC:\\anaconda3\\lib\\site-packages\\selenium\\webdriver\\remote\\webelement.py\u001b[0m in \u001b[0;36m_execute\u001b[1;34m(self, command, params)\u001b[0m\n\u001b[0;32m    394\u001b[0m             \u001b[0mparams\u001b[0m \u001b[1;33m=\u001b[0m \u001b[1;33m{\u001b[0m\u001b[1;33m}\u001b[0m\u001b[1;33m\u001b[0m\u001b[1;33m\u001b[0m\u001b[0m\n\u001b[0;32m    395\u001b[0m         \u001b[0mparams\u001b[0m\u001b[1;33m[\u001b[0m\u001b[1;34m'id'\u001b[0m\u001b[1;33m]\u001b[0m \u001b[1;33m=\u001b[0m \u001b[0mself\u001b[0m\u001b[1;33m.\u001b[0m\u001b[0m_id\u001b[0m\u001b[1;33m\u001b[0m\u001b[1;33m\u001b[0m\u001b[0m\n\u001b[1;32m--> 396\u001b[1;33m         \u001b[1;32mreturn\u001b[0m \u001b[0mself\u001b[0m\u001b[1;33m.\u001b[0m\u001b[0m_parent\u001b[0m\u001b[1;33m.\u001b[0m\u001b[0mexecute\u001b[0m\u001b[1;33m(\u001b[0m\u001b[0mcommand\u001b[0m\u001b[1;33m,\u001b[0m \u001b[0mparams\u001b[0m\u001b[1;33m)\u001b[0m\u001b[1;33m\u001b[0m\u001b[1;33m\u001b[0m\u001b[0m\n\u001b[0m\u001b[0;32m    397\u001b[0m \u001b[1;33m\u001b[0m\u001b[0m\n\u001b[0;32m    398\u001b[0m     \u001b[1;32mdef\u001b[0m \u001b[0mfind_element\u001b[0m\u001b[1;33m(\u001b[0m\u001b[0mself\u001b[0m\u001b[1;33m,\u001b[0m \u001b[0mby\u001b[0m\u001b[1;33m=\u001b[0m\u001b[0mBy\u001b[0m\u001b[1;33m.\u001b[0m\u001b[0mID\u001b[0m\u001b[1;33m,\u001b[0m \u001b[0mvalue\u001b[0m\u001b[1;33m=\u001b[0m\u001b[1;32mNone\u001b[0m\u001b[1;33m)\u001b[0m \u001b[1;33m->\u001b[0m \u001b[0mWebElement\u001b[0m\u001b[1;33m:\u001b[0m\u001b[1;33m\u001b[0m\u001b[1;33m\u001b[0m\u001b[0m\n",
      "\u001b[1;32mC:\\anaconda3\\lib\\site-packages\\selenium\\webdriver\\remote\\webdriver.py\u001b[0m in \u001b[0;36mexecute\u001b[1;34m(self, driver_command, params)\u001b[0m\n\u001b[0;32m    433\u001b[0m         \u001b[0mresponse\u001b[0m \u001b[1;33m=\u001b[0m \u001b[0mself\u001b[0m\u001b[1;33m.\u001b[0m\u001b[0mcommand_executor\u001b[0m\u001b[1;33m.\u001b[0m\u001b[0mexecute\u001b[0m\u001b[1;33m(\u001b[0m\u001b[0mdriver_command\u001b[0m\u001b[1;33m,\u001b[0m \u001b[0mparams\u001b[0m\u001b[1;33m)\u001b[0m\u001b[1;33m\u001b[0m\u001b[1;33m\u001b[0m\u001b[0m\n\u001b[0;32m    434\u001b[0m         \u001b[1;32mif\u001b[0m \u001b[0mresponse\u001b[0m\u001b[1;33m:\u001b[0m\u001b[1;33m\u001b[0m\u001b[1;33m\u001b[0m\u001b[0m\n\u001b[1;32m--> 435\u001b[1;33m             \u001b[0mself\u001b[0m\u001b[1;33m.\u001b[0m\u001b[0merror_handler\u001b[0m\u001b[1;33m.\u001b[0m\u001b[0mcheck_response\u001b[0m\u001b[1;33m(\u001b[0m\u001b[0mresponse\u001b[0m\u001b[1;33m)\u001b[0m\u001b[1;33m\u001b[0m\u001b[1;33m\u001b[0m\u001b[0m\n\u001b[0m\u001b[0;32m    436\u001b[0m             response['value'] = self._unwrap_value(\n\u001b[0;32m    437\u001b[0m                 response.get('value', None))\n",
      "\u001b[1;32mC:\\anaconda3\\lib\\site-packages\\selenium\\webdriver\\remote\\errorhandler.py\u001b[0m in \u001b[0;36mcheck_response\u001b[1;34m(self, response)\u001b[0m\n\u001b[0;32m    245\u001b[0m                 \u001b[0malert_text\u001b[0m \u001b[1;33m=\u001b[0m \u001b[0mvalue\u001b[0m\u001b[1;33m[\u001b[0m\u001b[1;34m'alert'\u001b[0m\u001b[1;33m]\u001b[0m\u001b[1;33m.\u001b[0m\u001b[0mget\u001b[0m\u001b[1;33m(\u001b[0m\u001b[1;34m'text'\u001b[0m\u001b[1;33m)\u001b[0m\u001b[1;33m\u001b[0m\u001b[1;33m\u001b[0m\u001b[0m\n\u001b[0;32m    246\u001b[0m             \u001b[1;32mraise\u001b[0m \u001b[0mexception_class\u001b[0m\u001b[1;33m(\u001b[0m\u001b[0mmessage\u001b[0m\u001b[1;33m,\u001b[0m \u001b[0mscreen\u001b[0m\u001b[1;33m,\u001b[0m \u001b[0mstacktrace\u001b[0m\u001b[1;33m,\u001b[0m \u001b[0malert_text\u001b[0m\u001b[1;33m)\u001b[0m  \u001b[1;31m# type: ignore[call-arg]  # mypy is not smart enough here\u001b[0m\u001b[1;33m\u001b[0m\u001b[1;33m\u001b[0m\u001b[0m\n\u001b[1;32m--> 247\u001b[1;33m         \u001b[1;32mraise\u001b[0m \u001b[0mexception_class\u001b[0m\u001b[1;33m(\u001b[0m\u001b[0mmessage\u001b[0m\u001b[1;33m,\u001b[0m \u001b[0mscreen\u001b[0m\u001b[1;33m,\u001b[0m \u001b[0mstacktrace\u001b[0m\u001b[1;33m)\u001b[0m\u001b[1;33m\u001b[0m\u001b[1;33m\u001b[0m\u001b[0m\n\u001b[0m\u001b[0;32m    248\u001b[0m \u001b[1;33m\u001b[0m\u001b[0m\n\u001b[0;32m    249\u001b[0m     \u001b[1;32mdef\u001b[0m \u001b[0m_value_or_default\u001b[0m\u001b[1;33m(\u001b[0m\u001b[0mself\u001b[0m\u001b[1;33m,\u001b[0m \u001b[0mobj\u001b[0m\u001b[1;33m:\u001b[0m \u001b[0mMapping\u001b[0m\u001b[1;33m[\u001b[0m\u001b[0m_KT\u001b[0m\u001b[1;33m,\u001b[0m \u001b[0m_VT\u001b[0m\u001b[1;33m]\u001b[0m\u001b[1;33m,\u001b[0m \u001b[0mkey\u001b[0m\u001b[1;33m:\u001b[0m \u001b[0m_KT\u001b[0m\u001b[1;33m,\u001b[0m \u001b[0mdefault\u001b[0m\u001b[1;33m:\u001b[0m \u001b[0m_VT\u001b[0m\u001b[1;33m)\u001b[0m \u001b[1;33m->\u001b[0m \u001b[0m_VT\u001b[0m\u001b[1;33m:\u001b[0m\u001b[1;33m\u001b[0m\u001b[1;33m\u001b[0m\u001b[0m\n",
      "\u001b[1;31mWebDriverException\u001b[0m: Message: unknown error: unhandled inspector error: {\"code\":-32000,\"message\":\"No node with given id found\"}\n  (Session info: MicrosoftEdge=114.0.1823.51)\nStacktrace:\nBacktrace:\n\tGetHandleVerifier [0x00007FF74A82A8E2+64226]\n\tMicrosoft::Applications::Events::EventProperty::~EventProperty [0x00007FF74A7BBAB2+771122]\n\t(No symbol) [0x00007FF74A57CC3C]\n\t(No symbol) [0x00007FF74A569266]\n\t(No symbol) [0x00007FF74A5672C9]\n\t(No symbol) [0x00007FF74A567961]\n\t(No symbol) [0x00007FF74A567890]\n\t(No symbol) [0x00007FF74A58C75D]\n\t(No symbol) [0x00007FF74A58D0D8]\n\t(No symbol) [0x00007FF74A5821CB]\n\t(No symbol) [0x00007FF74A5806A1]\n\t(No symbol) [0x00007FF74A583A44]\n\t(No symbol) [0x00007FF74A583B30]\n\t(No symbol) [0x00007FF74A5C0766]\n\t(No symbol) [0x00007FF74A5C0D5A]\n\t(No symbol) [0x00007FF74A5B4C1C]\n\t(No symbol) [0x00007FF74A5DF02F]\n\t(No symbol) [0x00007FF74A5B4BA1]\n\t(No symbol) [0x00007FF74A5B4A71]\n\t(No symbol) [0x00007FF74A5DF320]\n\t(No symbol) [0x00007FF74A5B4BA1]\n\t(No symbol) [0x00007FF74A5F7FB1]\n\t(No symbol) [0x00007FF74A5DEDC3]\n\t(No symbol) [0x00007FF74A5B3BDC]\n\t(No symbol) [0x00007FF74A5B2DC6]\n\t(No symbol) [0x00007FF74A5B4354]\n\tMicrosoft::Applications::Events::ILogManager::DispatchEventBroadcast [0x00007FF74AA081E9+1319033]\n\t(No symbol) [0x00007FF74A62C048]\n\tMicrosoft::Applications::Events::EventProperty::~EventProperty [0x00007FF74A707991+33553]\n\tMicrosoft::Applications::Events::EventProperty::~EventProperty [0x00007FF74A6FFDCF+1871]\n\tMicrosoft::Applications::Events::ILogManager::DispatchEventBroadcast [0x00007FF74AA06E03+1313939]\n\tMicrosoft::Applications::Events::ILogConfiguration::operator* [0x00007FF74A7C40E8+20232]\n\tMicrosoft::Applications::Events::ILogConfiguration::operator* [0x00007FF74A7C0704+5412]\n\tMicrosoft::Applications::Events::ILogConfiguration::operator* [0x00007FF74A7C07FC+5660]\n\tMicrosoft::Applications::Events::EventProperty::~EventProperty [0x00007FF74A7B44B1+740913]\n\tBaseThreadInitThunk [0x00007FFC1DCA26AD+29]\n\tRtlUserThreadStart [0x00007FFC1E04A9F8+40]\n"
     ]
    }
   ],
   "source": [
    "scrape = []\n",
    "limit = 100\n",
    "\n",
    "content = driver.find_elements(By.XPATH, \"//article[@data-testid='tweet']\")\n",
    "while True:\n",
    "    for tweet in content:\n",
    "        date = tweet.find_element(By.XPATH, \".//time\").get_attribute('datetime')\n",
    "        user_username = tweet.find_element(By.XPATH, \".//div[@data-testid='User-Name']\").text\n",
    "        tweet_text = tweet.find_element(By.XPATH, \".//div[@data-testid='tweetText']\").text\n",
    "        \n",
    "        data = [date, user_username, tweet_text]\n",
    "        scrape.append(data)\n",
    "        driver.execute_script('window.scrollTo(0, document.body.scrollHeight);')\n",
    "        sleep(5)\n",
    "        content = driver.find_elements(By.XPATH, \"//article[@data-testid='tweet']\")\n",
    "        if tweet == limit:\n",
    "            break"
   ]
  },
  {
   "cell_type": "markdown",
   "id": "758bd40b",
   "metadata": {},
   "source": [
    "# Data Saving"
   ]
  },
  {
   "cell_type": "code",
   "execution_count": 34,
   "id": "33149b5f",
   "metadata": {},
   "outputs": [],
   "source": [
    "import pandas as pd\n",
    "\n",
    "df = pd.DataFrame(scrape)\n",
    "df.to_csv(\"en-10-ags-all-2.csv\") #header = None, skiprows = 1, names = ['Date', 'Username', 'Tweet'])"
   ]
  }
 ],
 "metadata": {
  "kernelspec": {
   "display_name": "Python 3",
   "language": "python",
   "name": "python3"
  },
  "language_info": {
   "codemirror_mode": {
    "name": "ipython",
    "version": 3
   },
   "file_extension": ".py",
   "mimetype": "text/x-python",
   "name": "python",
   "nbconvert_exporter": "python",
   "pygments_lexer": "ipython3",
   "version": "3.8.8"
  }
 },
 "nbformat": 4,
 "nbformat_minor": 5
}
