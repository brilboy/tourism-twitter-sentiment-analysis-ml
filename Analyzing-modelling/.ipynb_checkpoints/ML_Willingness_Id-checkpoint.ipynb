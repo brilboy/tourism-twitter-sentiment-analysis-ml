{
 "cells": [
  {
   "cell_type": "code",
   "execution_count": 1,
   "id": "9b1495a4",
   "metadata": {},
   "outputs": [],
   "source": [
    "import pandas as pd\n",
    "import numpy as np\n",
    "import matplotlib.pyplot as plt\n",
    "import seaborn as sns"
   ]
  },
  {
   "cell_type": "code",
   "execution_count": 2,
   "id": "46012419",
   "metadata": {},
   "outputs": [],
   "source": [
    "df = pd.read_csv('id-labeled-tweet-1.csv', encoding = 'latin-1')"
   ]
  },
  {
   "cell_type": "code",
   "execution_count": 3,
   "id": "95f0e18b",
   "metadata": {},
   "outputs": [
    {
     "data": {
      "text/html": [
       "<div>\n",
       "<style scoped>\n",
       "    .dataframe tbody tr th:only-of-type {\n",
       "        vertical-align: middle;\n",
       "    }\n",
       "\n",
       "    .dataframe tbody tr th {\n",
       "        vertical-align: top;\n",
       "    }\n",
       "\n",
       "    .dataframe thead th {\n",
       "        text-align: right;\n",
       "    }\n",
       "</style>\n",
       "<table border=\"1\" class=\"dataframe\">\n",
       "  <thead>\n",
       "    <tr style=\"text-align: right;\">\n",
       "      <th></th>\n",
       "      <th>Date</th>\n",
       "      <th>Username</th>\n",
       "      <th>Tweet</th>\n",
       "      <th>cleaned_tweet</th>\n",
       "      <th>len_words</th>\n",
       "      <th>tokens</th>\n",
       "      <th>year</th>\n",
       "      <th>month</th>\n",
       "      <th>label_sentiment</th>\n",
       "      <th>label_willingness</th>\n",
       "      <th>sentiment_score</th>\n",
       "      <th>willingness_score</th>\n",
       "    </tr>\n",
       "  </thead>\n",
       "  <tbody>\n",
       "    <tr>\n",
       "      <th>0</th>\n",
       "      <td>2021-11-29 23:52:01+00:00</td>\n",
       "      <td>snoop\\n@peppreoni\\nÃÂÃÂ·\\nNov 30, 2021</td>\n",
       "      <td>Temenku weekend kemarin ada yg ke Bali sama ke...</td>\n",
       "      <td>temenku weekend kemarin bal sama jogja jadi pe...</td>\n",
       "      <td>74</td>\n",
       "      <td>['temenku', 'weekend', 'kemarin', 'bal', 'sama...</td>\n",
       "      <td>2021</td>\n",
       "      <td>11</td>\n",
       "      <td>positif</td>\n",
       "      <td>not_visit</td>\n",
       "      <td>1</td>\n",
       "      <td>0</td>\n",
       "    </tr>\n",
       "    <tr>\n",
       "      <th>1</th>\n",
       "      <td>2021-11-29 22:31:38+00:00</td>\n",
       "      <td>ÃÂ¡ÃÂ¬ÃÂ³ÃÂ¡ÃÂ¬ÃÂÃÂ¡ÃÂ¬ÃÂ¸ÃÂ¡ÃÂ¬Ã...</td>\n",
       "      <td>btw saya thn 1999 udah pernah punya pacar dari...</td>\n",
       "      <td>1999 pernah punya pacar chat kirim2 foto lewat...</td>\n",
       "      <td>126</td>\n",
       "      <td>['1999', 'pernah', 'punya', 'pacar', 'chat', '...</td>\n",
       "      <td>2021</td>\n",
       "      <td>11</td>\n",
       "      <td>netral</td>\n",
       "      <td>visit</td>\n",
       "      <td>0</td>\n",
       "      <td>1</td>\n",
       "    </tr>\n",
       "    <tr>\n",
       "      <th>2</th>\n",
       "      <td>2021-11-29 21:37:51+00:00</td>\n",
       "      <td>Rito \"A FOOD\"\\n@FoodRito\\nÃÂÃÂ·\\nNov 30, 2021</td>\n",
       "      <td>Ya klo bgtu jangan paksa Bali jadi wisata halal</td>\n",
       "      <td>jangan paksa bal jadi wisata halal</td>\n",
       "      <td>40</td>\n",
       "      <td>['jangan', 'paksa', 'bal', 'jadi', 'wisata', '...</td>\n",
       "      <td>2021</td>\n",
       "      <td>11</td>\n",
       "      <td>negatif</td>\n",
       "      <td>not_visit</td>\n",
       "      <td>-1</td>\n",
       "      <td>0</td>\n",
       "    </tr>\n",
       "    <tr>\n",
       "      <th>3</th>\n",
       "      <td>2021-11-29 17:23:02+00:00</td>\n",
       "      <td>miamiawwwwwww\\n@poesee77\\nÃÂÃÂ·\\nNov 30, 2021</td>\n",
       "      <td>Jadi rencanannya awal desember ini gue dan beb...</td>\n",
       "      <td>jadi rencanannya awal desember beberapa teman ...</td>\n",
       "      <td>85</td>\n",
       "      <td>['jadi', 'rencanannya', 'awal', 'desember', 'b...</td>\n",
       "      <td>2021</td>\n",
       "      <td>11</td>\n",
       "      <td>positif</td>\n",
       "      <td>visit</td>\n",
       "      <td>1</td>\n",
       "      <td>1</td>\n",
       "    </tr>\n",
       "    <tr>\n",
       "      <th>4</th>\n",
       "      <td>2021-11-29 15:34:54+00:00</td>\n",
       "      <td>Handydanielk\\n@Night_prince08\\nÃÂÃÂ·\\nNov 2...</td>\n",
       "      <td>Orang bali kalo mau flexing liburan pda kmna y ?</td>\n",
       "      <td>orang bal kalau flexing libur kmna</td>\n",
       "      <td>36</td>\n",
       "      <td>['orang', 'bal', 'kalau', 'flexing', 'libur', ...</td>\n",
       "      <td>2021</td>\n",
       "      <td>11</td>\n",
       "      <td>netral</td>\n",
       "      <td>not_visit</td>\n",
       "      <td>0</td>\n",
       "      <td>0</td>\n",
       "    </tr>\n",
       "  </tbody>\n",
       "</table>\n",
       "</div>"
      ],
      "text/plain": [
       "                        Date  \\\n",
       "0  2021-11-29 23:52:01+00:00   \n",
       "1  2021-11-29 22:31:38+00:00   \n",
       "2  2021-11-29 21:37:51+00:00   \n",
       "3  2021-11-29 17:23:02+00:00   \n",
       "4  2021-11-29 15:34:54+00:00   \n",
       "\n",
       "                                            Username  \\\n",
       "0          snoop\\n@peppreoni\\nÃÂÃÂ·\\nNov 30, 2021   \n",
       "1  ÃÂ¡ÃÂ¬ÃÂ³ÃÂ¡ÃÂ¬ÃÂÃÂ¡ÃÂ¬ÃÂ¸ÃÂ¡ÃÂ¬Ã...   \n",
       "2   Rito \"A FOOD\"\\n@FoodRito\\nÃÂÃÂ·\\nNov 30, 2021   \n",
       "3   miamiawwwwwww\\n@poesee77\\nÃÂÃÂ·\\nNov 30, 2021   \n",
       "4  Handydanielk\\n@Night_prince08\\nÃÂÃÂ·\\nNov 2...   \n",
       "\n",
       "                                               Tweet  \\\n",
       "0  Temenku weekend kemarin ada yg ke Bali sama ke...   \n",
       "1  btw saya thn 1999 udah pernah punya pacar dari...   \n",
       "2    Ya klo bgtu jangan paksa Bali jadi wisata halal   \n",
       "3  Jadi rencanannya awal desember ini gue dan beb...   \n",
       "4   Orang bali kalo mau flexing liburan pda kmna y ?   \n",
       "\n",
       "                                       cleaned_tweet  len_words  \\\n",
       "0  temenku weekend kemarin bal sama jogja jadi pe...         74   \n",
       "1  1999 pernah punya pacar chat kirim2 foto lewat...        126   \n",
       "2                 jangan paksa bal jadi wisata halal         40   \n",
       "3  jadi rencanannya awal desember beberapa teman ...         85   \n",
       "4                 orang bal kalau flexing libur kmna         36   \n",
       "\n",
       "                                              tokens  year  month  \\\n",
       "0  ['temenku', 'weekend', 'kemarin', 'bal', 'sama...  2021     11   \n",
       "1  ['1999', 'pernah', 'punya', 'pacar', 'chat', '...  2021     11   \n",
       "2  ['jangan', 'paksa', 'bal', 'jadi', 'wisata', '...  2021     11   \n",
       "3  ['jadi', 'rencanannya', 'awal', 'desember', 'b...  2021     11   \n",
       "4  ['orang', 'bal', 'kalau', 'flexing', 'libur', ...  2021     11   \n",
       "\n",
       "  label_sentiment label_willingness  sentiment_score  willingness_score  \n",
       "0         positif         not_visit                1                  0  \n",
       "1          netral             visit                0                  1  \n",
       "2         negatif         not_visit               -1                  0  \n",
       "3         positif             visit                1                  1  \n",
       "4          netral         not_visit                0                  0  "
      ]
     },
     "execution_count": 3,
     "metadata": {},
     "output_type": "execute_result"
    }
   ],
   "source": [
    "df.head()"
   ]
  },
  {
   "cell_type": "code",
   "execution_count": 4,
   "id": "b34fff1e",
   "metadata": {},
   "outputs": [
    {
     "ename": "AttributeError",
     "evalue": "'AxesSubplot' object has no attribute 'to_file'",
     "output_type": "error",
     "traceback": [
      "\u001b[1;31m---------------------------------------------------------------------------\u001b[0m",
      "\u001b[1;31mAttributeError\u001b[0m                            Traceback (most recent call last)",
      "\u001b[1;32m<ipython-input-4-ca32006d2660>\u001b[0m in \u001b[0;36m<module>\u001b[1;34m\u001b[0m\n\u001b[0;32m      1\u001b[0m \u001b[0mjml_willingness\u001b[0m \u001b[1;33m=\u001b[0m \u001b[0msns\u001b[0m\u001b[1;33m.\u001b[0m\u001b[0mcountplot\u001b[0m\u001b[1;33m(\u001b[0m\u001b[0mx\u001b[0m \u001b[1;33m=\u001b[0m \u001b[1;34m'label_willingness'\u001b[0m\u001b[1;33m,\u001b[0m \u001b[0mdata\u001b[0m \u001b[1;33m=\u001b[0m \u001b[0mdf\u001b[0m\u001b[1;33m)\u001b[0m\u001b[1;33m\u001b[0m\u001b[1;33m\u001b[0m\u001b[0m\n\u001b[1;32m----> 2\u001b[1;33m \u001b[0mjml_willingness\u001b[0m\u001b[1;33m.\u001b[0m\u001b[0mto_file\u001b[0m\u001b[1;33m(\u001b[0m\u001b[1;34m'jml_willingness.png'\u001b[0m\u001b[1;33m)\u001b[0m\u001b[1;33m\u001b[0m\u001b[1;33m\u001b[0m\u001b[0m\n\u001b[0m",
      "\u001b[1;31mAttributeError\u001b[0m: 'AxesSubplot' object has no attribute 'to_file'"
     ]
    },
    {
     "data": {
      "image/png": "[encoded data removed]",
      "text/plain": [
       "<Figure size 432x288 with 1 Axes>"
      ]
     },
     "metadata": {
      "needs_background": "light"
     },
     "output_type": "display_data"
    }
   ],
   "source": [
    "jml_willingness = sns.countplot(x = 'label_willingness', data = df)\n",
    "jml_willingness.to_file('jml_willingness.png')"
   ]
  },
  {
   "cell_type": "code",
   "execution_count": 6,
   "id": "7143d199",
   "metadata": {
    "scrolled": true
   },
   "outputs": [
    {
     "data": {
      "text/plain": [
       "[('bal', 2434),\n",
       " ('libur', 643),\n",
       " ('budaya', 421),\n",
       " ('kalau', 411),\n",
       " ('orang', 383),\n",
       " ('pulau', 366),\n",
       " ('wisata', 283),\n",
       " ('sama', 272),\n",
       " ('jadi', 269),\n",
       " ('banyak', 249),\n",
       " ('pantai', 243),\n",
       " ('jawa', 218),\n",
       " ('sangat', 189),\n",
       " ('indonesia', 184),\n",
       " ('buat', 183),\n",
       " ('pergi', 177),\n",
       " ('bukan', 168),\n",
       " ('enggak', 166),\n",
       " ('lihat', 161),\n",
       " ('pakai', 154),\n",
       " ('foto', 147),\n",
       " ('pengin', 140),\n",
       " ('tempat', 138),\n",
       " ('turis', 133),\n",
       " ('lebih', 131),\n",
       " ('jalan', 129),\n",
       " ('semua', 125),\n",
       " ('pernah', 125),\n",
       " ('luar', 124),\n",
       " ('dulu', 121),\n",
       " ('memang', 118),\n",
       " ('benar', 114),\n",
       " ('agama', 114),\n",
       " ('terus', 111),\n",
       " ('tahun', 107),\n",
       " ('sekarang', 107),\n",
       " ('baru', 104),\n",
       " ('tinggal', 104),\n",
       " ('hindu', 104),\n",
       " ('sendiri', 102),\n",
       " ('hari', 100),\n",
       " ('teman', 99),\n",
       " ('main', 98),\n",
       " ('kayak', 96),\n",
       " ('kamu', 96),\n",
       " ('mana', 94),\n",
       " ('punya', 93),\n",
       " ('daerah', 88),\n",
       " ('masuk', 87),\n",
       " ('kerja', 87),\n",
       " ('halal', 86),\n",
       " ('malah', 86),\n",
       " ('beda', 84),\n",
       " ('padahal', 82),\n",
       " ('sana', 80),\n",
       " ('rumah', 75),\n",
       " ('jogja', 73),\n",
       " ('salah', 73),\n",
       " ('ikut', 72),\n",
       " ('biasa', 71),\n",
       " ('satu', 70),\n",
       " ('tari', 70),\n",
       " ('adat', 69),\n",
       " ('jauh', 68),\n",
       " ('lombok', 68),\n",
       " ('lama', 66),\n",
       " ('suka', 66),\n",
       " ('bilang', 65),\n",
       " ('tetap', 65),\n",
       " ('kali', 62),\n",
       " ('trip', 61),\n",
       " ('kota', 61),\n",
       " ('akhir', 61),\n",
       " ('makan', 61),\n",
       " ('covid', 60),\n",
       " ('doang', 60),\n",
       " ('anak', 59),\n",
       " ('waktu', 59),\n",
       " ('bikin', 59),\n",
       " ('jangan', 58),\n",
       " ('besar', 56),\n",
       " ('negara', 56),\n",
       " ('kata', 56),\n",
       " ('laku', 55),\n",
       " ('bagus', 55),\n",
       " ('bawa', 54),\n",
       " ('sini', 54),\n",
       " ('mungkin', 54),\n",
       " ('jakarta', 53),\n",
       " ('nyepi', 53),\n",
       " ('biar', 52),\n",
       " ('rasa', 50),\n",
       " ('sekali', 49),\n",
       " ('soal', 49),\n",
       " ('baik', 49),\n",
       " ('begini', 48),\n",
       " ('duit', 47),\n",
       " ('tiap', 46),\n",
       " ('asing', 46),\n",
       " ('bisa', 46),\n",
       " ('asli', 46),\n",
       " ('datang', 45),\n",
       " ('habis', 45),\n",
       " ('kenal', 45),\n",
       " ('aceh', 44),\n",
       " ('bulan', 44),\n",
       " ('harga', 44),\n",
       " ('beberapa', 44),\n",
       " ('ajar', 44),\n",
       " ('keluar', 44),\n",
       " ('balik', 43),\n",
       " ('langsung', 43),\n",
       " ('hidup', 42),\n",
       " ('naik', 42),\n",
       " ('muslim', 42),\n",
       " ('kemarin', 41),\n",
       " ('jaga', 41),\n",
       " ('ingat', 41),\n",
       " ('beli', 41),\n",
       " ('bagaimana', 41),\n",
       " ('coba', 40),\n",
       " ('jelas', 40),\n",
       " ('pulang', 40),\n",
       " ('islam', 40),\n",
       " ('dunia', 40),\n",
       " ('pilih', 40),\n",
       " ('diri', 39),\n",
       " ('dekat', 39),\n",
       " ('kecil', 39),\n",
       " ('paling', 39),\n",
       " ('ajak', 39),\n",
       " ('indah', 38),\n",
       " ('tutup', 38),\n",
       " ('cari', 38),\n",
       " ('masyarakat', 38),\n",
       " ('tanya', 38),\n",
       " ('bagi', 37),\n",
       " ('siapa', 37),\n",
       " ('keluarga', 37),\n",
       " ('pikir', 37),\n",
       " ('hotel', 37),\n",
       " ('masalah', 37),\n",
       " ('bangun', 36),\n",
       " ('nyata', 35),\n",
       " ('wkwk', 35),\n",
       " ('sebut', 35),\n",
       " ('tau', 35),\n",
       " ('mulai', 35),\n",
       " ('lokal', 35),\n",
       " ('bule', 35),\n",
       " ('negeri', 35),\n",
       " ('buka', 34),\n",
       " ('asal', 34),\n",
       " ('tidak', 34),\n",
       " ('atur', 34),\n",
       " ('kalah', 33),\n",
       " ('selalu', 33),\n",
       " ('alam', 33),\n",
       " ('yang', 33),\n",
       " ('bakal', 33),\n",
       " ('dapat', 32),\n",
       " ('lain', 32),\n",
       " ('utama', 32),\n",
       " ('enak', 32),\n",
       " ('sudah', 32),\n",
       " ('kalian', 32),\n",
       " ('nama', 32),\n",
       " ('mending', 32),\n",
       " ('moga', 32),\n",
       " ('cukup', 31),\n",
       " ('pariwisata', 31),\n",
       " ('mayoritas', 31),\n",
       " ('lalu', 31),\n",
       " ('kurang', 31),\n",
       " ('lagi', 31),\n",
       " ('tengah', 31),\n",
       " ('pura', 31),\n",
       " ('perlu', 30),\n",
       " ('kasih', 30),\n",
       " ('minggu', 30),\n",
       " ('destinasi', 30),\n",
       " ('harus', 30),\n",
       " ('bandung', 30),\n",
       " ('perintah', 29),\n",
       " ('arab', 29),\n",
       " ('kasus', 29),\n",
       " ('depan', 29),\n",
       " ('nusantara', 29),\n",
       " ('minta', 29),\n",
       " ('misal', 29),\n",
       " ('masa', 29),\n",
       " ('awal', 28),\n",
       " ('jaman', 28),\n",
       " ('dong', 28),\n",
       " ('acara', 28),\n",
       " ('bahkan', 28),\n",
       " ('hormat', 28),\n",
       " ('jual', 28),\n",
       " ('banding', 27),\n",
       " ('ada', 27)]"
      ]
     },
     "execution_count": 6,
     "metadata": {},
     "output_type": "execute_result"
    }
   ],
   "source": [
    "from collections import Counter\n",
    "cnt = Counter()\n",
    "\n",
    "for i in df['cleaned_tweet'][df['willingness_score']==0].values:\n",
    "    for w in i.split():\n",
    "        cnt[w]+=1\n",
    "visit = cnt.most_common(200)\n",
    "visit"
   ]
  },
  {
   "cell_type": "code",
   "execution_count": null,
   "id": "43111666",
   "metadata": {},
   "outputs": [],
   "source": [
    "#freq_word = set(f for (f, fw) in most_common)\n",
    "#freq_word"
   ]
  },
  {
   "cell_type": "code",
   "execution_count": null,
   "id": "65316c49",
   "metadata": {},
   "outputs": [],
   "source": [
    "#def remove_freq(x):\n",
    "#    return ' '.join([word for word in str(x).split() if word not in freq_word])\n",
    "#df['common_tweet'] = df.cleaned_tweet.apply(lambda x: remove_freq(x))\n",
    "\n",
    "#df.head(5)"
   ]
  },
  {
   "cell_type": "markdown",
   "id": "ba2fcfb0",
   "metadata": {},
   "source": [
    "# Wordcloud"
   ]
  },
  {
   "cell_type": "code",
   "execution_count": null,
   "id": "f4ad9aa7",
   "metadata": {},
   "outputs": [],
   "source": [
    "from wordcloud import WordCloud, ImageColorGenerator\n",
    "import PIL.Image\n",
    "from PIL import Image"
   ]
  },
  {
   "cell_type": "markdown",
   "id": "b18db179",
   "metadata": {},
   "source": [
    "## Keinginan Berwisata"
   ]
  },
  {
   "cell_type": "code",
   "execution_count": null,
   "id": "ad25f07f",
   "metadata": {},
   "outputs": [],
   "source": [
    "mask_berwisata = np.array(PIL.Image.open('bali.jpg'))\n",
    "color = ImageColorGenerator(mask_berwisata)"
   ]
  },
  {
   "cell_type": "code",
   "execution_count": null,
   "id": "08c42843",
   "metadata": {
    "scrolled": true
   },
   "outputs": [],
   "source": [
    "word_berwisata = ' '.join([p for p in df['cleaned_tweet'][df['willingness_score']==1]])\n",
    "cloud_berwisata = WordCloud(max_font_size = 200, \n",
    "                            margin = 0, \n",
    "                            background_color = 'white', \n",
    "                            mask = mask_berwisata,\n",
    "                            min_font_size = 3,\n",
    "                            stopwords = ['bali', 'trip', 'travel', 'indonesia', 'tourist', 'people', 'thailand', 'tour', 'island', 'beach']).generate(word_berwisata)\n",
    "cloud_b = cloud_berwisata.recolor(color_func = color)\n",
    "plt.figure(figsize = [25, 25])\n",
    "plt.imshow(cloud_berwisata, interpolation = 'bilinear')\n",
    "plt.axis('off')\n",
    "plt.margins(x = 0, y = 0)\n",
    "plt.title('Keinginan Berwisata', size = 35)\n",
    "plt.show()\n",
    "\n",
    "cloud_b.to_file('id-WC Keinginan Berwisata.png')"
   ]
  },
  {
   "cell_type": "markdown",
   "id": "0c288ba4",
   "metadata": {},
   "source": [
    "## Keinginan Tidak Berwisata"
   ]
  },
  {
   "cell_type": "code",
   "execution_count": null,
   "id": "024821b3",
   "metadata": {},
   "outputs": [],
   "source": [
    "mask_tidak_berwisata = np.array(PIL.Image.open('cross.jpg'))\n",
    "color = ImageColorGenerator(mask_tidak_berwisata)"
   ]
  },
  {
   "cell_type": "code",
   "execution_count": null,
   "id": "ed070be6",
   "metadata": {
    "scrolled": false
   },
   "outputs": [],
   "source": [
    "word_tidak_berwisata = ' '.join([p for p in df['cleaned_tweet'][df['willingness_score']==0]])\n",
    "cloud_tidak_berwisata = WordCloud(max_font_size = None, \n",
    "                                  margin = 0, \n",
    "                                  background_color = 'white', \n",
    "                                  mask = mask_tidak_berwisata,\n",
    "                                  min_font_size = 3,\n",
    "                                  stopwords = ['bali', 'trip', 'travel', 'indonesia', 'tourist', 'people', 'thailand', 'tour', 'island', 'beach']).generate(word_tidak_berwisata)\n",
    "cloud_tb = cloud_tidak_berwisata.recolor(color_func = color)\n",
    "plt.figure(figsize = [25, 25])\n",
    "plt.imshow(cloud_tidak_berwisata, interpolation = 'bilinear')\n",
    "plt.axis('off')\n",
    "plt.margins(x = 0, y = 0)\n",
    "plt.title('Keinginan Tidak Berwisata', size = 35)\n",
    "plt.show()\n",
    "\n",
    "cloud_tb.to_file('id-WC Keinginan Tidak Berwisata.png')"
   ]
  },
  {
   "cell_type": "markdown",
   "id": "55bdb765",
   "metadata": {},
   "source": [
    "# TF-IDF"
   ]
  },
  {
   "cell_type": "code",
   "execution_count": null,
   "id": "ac3ff84d",
   "metadata": {
    "scrolled": true
   },
   "outputs": [],
   "source": [
    "from sklearn.feature_extraction.text import TfidfVectorizer\n",
    "tfidf_vect = TfidfVectorizer(max_df = 0.5, min_df = 2)\n",
    "tfidf = tfidf_vect.fit_transform(df.cleaned_tweet)\n",
    "print(tfidf)"
   ]
  },
  {
   "cell_type": "code",
   "execution_count": null,
   "id": "33efeb45",
   "metadata": {},
   "outputs": [],
   "source": [
    "x = tfidf\n",
    "y = df[['label_willingness']]"
   ]
  },
  {
   "cell_type": "code",
   "execution_count": null,
   "id": "60e0caa0",
   "metadata": {},
   "outputs": [],
   "source": [
    "from sklearn.model_selection import train_test_split\n",
    "x_train, x_test, y_train, y_test = train_test_split(x, y, test_size = 0.1, random_state = 0)\n",
    "\n",
    "print(x_train.shape)\n",
    "print(x_test.shape)\n",
    "print(y_train.shape)\n",
    "print(y_test.shape)"
   ]
  },
  {
   "cell_type": "markdown",
   "id": "0e997be8",
   "metadata": {},
   "source": [
    "# Models"
   ]
  },
  {
   "cell_type": "code",
   "execution_count": null,
   "id": "ad2b3544",
   "metadata": {},
   "outputs": [],
   "source": [
    "from sklearn.model_selection import RandomizedSearchCV\n",
    "from sklearn.metrics import classification_report\n",
    "from scipy.stats import randint\n",
    "from pprint import pprint"
   ]
  },
  {
   "cell_type": "markdown",
   "id": "f9516a5b",
   "metadata": {},
   "source": [
    "## Support Vector Machine"
   ]
  },
  {
   "cell_type": "code",
   "execution_count": null,
   "id": "0da456b6",
   "metadata": {},
   "outputs": [],
   "source": [
    "#from sklearn.svm import SVC\n",
    "\n",
    "#hyperparameter_svm = { 'C' : randint(low = 0.1, high = 1000),\n",
    "#                      'gamma' : [1, 0.1, 0.01, 0.001, 0.0001],\n",
    "#                      'kernel' : ['linear', 'rbf', 'poly', 'sigmoid'],\n",
    "#                      'random_state' : randint(low = 0, high = 100)\n",
    "#                     }\n",
    "#svm = SVC()\n",
    "#svm_random = RandomizedSearchCV(svm, param_distributions = hyperparameter_svm,\n",
    "#                               n_iter = 10, cv = 5, scoring = 'accuracy', random_state = 0)\n",
    "#svm_random.fit(x_train, y_train)\n",
    "#svm_random.best_params_\n",
    "#svm_random.best_score_\n",
    "#svm_random.best_estimator_"
   ]
  },
  {
   "cell_type": "code",
   "execution_count": null,
   "id": "8f5b1f66",
   "metadata": {
    "scrolled": true
   },
   "outputs": [],
   "source": [
    "from sklearn.svm import SVC\n",
    "\n",
    "hyperparameter_svm = { 'C' : [0.1, 1, 10, 100, 1000],\n",
    "                      'gamma' : [1, 0.1, 0.01, 0.001, 0.0001],\n",
    "                      'kernel' : ['linear', 'rbf', 'poly', 'sigmoid']\n",
    "                     }\n",
    "svm = SVC(random_state = 0)\n",
    "svm_random = RandomizedSearchCV(svm, param_distributions = hyperparameter_svm,\n",
    "                               n_iter = 100, cv = 5, scoring = 'accuracy', random_state = 0)\n",
    "svm_random.fit(x_train, y_train)\n",
    "#svm_random.best_params_\n",
    "#svm_random.best_score_\n",
    "#svm_random.best_estimator_\n",
    "\n",
    "pprint(svm_random.best_estimator_.get_params())"
   ]
  },
  {
   "cell_type": "code",
   "execution_count": null,
   "id": "a66ba66b",
   "metadata": {
    "scrolled": true
   },
   "outputs": [],
   "source": [
    "hyperparameter_svm = { 'C' : [10],\n",
    "                      'gamma' : [1],\n",
    "                      'kernel' : ['rbf'],\n",
    "                      'random_state' : [0]\n",
    "                     }\n",
    "svm = SVC()\n",
    "svm_random = RandomizedSearchCV(svm, param_distributions = hyperparameter_svm,\n",
    "                               n_iter = 100, cv = 5, scoring = 'accuracy', random_state = 0)\n",
    "svm_random.fit(x_train, y_train)\n",
    "#svm_random.best_estimator_\n",
    "svm_predict = svm_random.predict(x_test)\n",
    "print(classification_report(y_test, svm_predict))"
   ]
  },
  {
   "cell_type": "code",
   "execution_count": null,
   "id": "19653daf",
   "metadata": {},
   "outputs": [],
   "source": [
    "#SVM uses randint\n",
    "\n",
    "#hyperparameter_svm = { 'C' : [705],\n",
    "#                      'gamma' : [1],\n",
    "#                      'kernel' : ['sigmoid'],\n",
    "#                      'random_state' : [37]\n",
    "#                     }\n",
    "#svm = SVC(random_state = 0)\n",
    "#svm_random = RandomizedSearchCV(svm, param_distributions = hyperparameter_svm,\n",
    "#                               n_iter = 10, cv = 5, scoring = 'accuracy', random_state = 0)\n",
    "#svm_random.fit(x_train, y_train)\n",
    "#svm_random.best_estimator_\n",
    "#svm_predict = svm_random.predict(x_test)\n",
    "#print(classification_report(y_test, svm_predict))"
   ]
  },
  {
   "cell_type": "markdown",
   "id": "a23b0126",
   "metadata": {},
   "source": [
    "## Random Forest Classifier"
   ]
  },
  {
   "cell_type": "code",
   "execution_count": null,
   "id": "13f3dfe1",
   "metadata": {},
   "outputs": [],
   "source": [
    "from sklearn.ensemble import RandomForestClassifier\n",
    "\n",
    "hyperparameter_rf = {'n_estimators' : [1, 50, 100, 150, 300, 500, 1000],\n",
    "                     'criterion' : ['gini', 'entropy', 'log_loss'],\n",
    "                     'max_depth' : [1, 3, 5, 7, 8, 9, 10],\n",
    "                     'min_samples_split' : [1, 2, 3, 5, 7, 8, 9, 10],\n",
    "                     'min_samples_leaf' : [1, 2, 3, 5, 7, 8, 9, 10],\n",
    "                    }\n",
    "\n",
    "rf = RandomForestClassifier()\n",
    "rf_random = RandomizedSearchCV(rf, param_distributions = hyperparameter_rf,\n",
    "                              n_iter = 100, cv = 5, scoring = 'accuracy', random_state = 0)\n",
    "rf_random.fit(x_train, y_train)\n",
    "#svm_random.best_params_\n",
    "#svm_random.best_score_\n",
    "#rf_random.best_estimator_\n",
    "\n",
    "pprint(rf_random.best_estimator_.get_params())"
   ]
  },
  {
   "cell_type": "code",
   "execution_count": null,
   "id": "10a67fac",
   "metadata": {
    "scrolled": true
   },
   "outputs": [],
   "source": [
    "hyperparameter_rf = {'n_estimators' : [1],\n",
    "                     'max_depth' : [7],\n",
    "                     'criterion' : ['entropy'],\n",
    "                     'min_samples_split' : [3],\n",
    "                     'min_samples_leaf' : [1]\n",
    "                    }\n",
    "rf = RandomForestClassifier()\n",
    "rf_random = RandomizedSearchCV(rf, param_distributions = hyperparameter_rf,\n",
    "                              n_iter = 100, cv = 5, scoring = 'accuracy', random_state = 0)\n",
    "rf_random.fit(x_train, y_train)\n",
    "rf_predict = rf_random.predict(x_test)\n",
    "print(classification_report(y_test, rf_predict))"
   ]
  },
  {
   "cell_type": "markdown",
   "id": "ad6c4602",
   "metadata": {},
   "source": [
    "## Decision Tree"
   ]
  },
  {
   "cell_type": "code",
   "execution_count": null,
   "id": "4fc55d42",
   "metadata": {},
   "outputs": [],
   "source": [
    "from sklearn.tree import DecisionTreeClassifier\n",
    "\n",
    "hyperparameter_dtc = {'criterion' : ['gini', 'entropy', 'log_loss'],\n",
    "                      'max_depth' : [1, 3, 5, 7, 8, 9, 10],\n",
    "                      'min_samples_split' : [1, 2, 3, 5, 7, 8, 9, 10],\n",
    "                      'min_samples_leaf' : [1, 2, 3, 5, 7, 8, 9, 10]\n",
    "                     }\n",
    "\n",
    "dtc = DecisionTreeClassifier()\n",
    "dtc_random = RandomizedSearchCV(dtc, param_distributions = hyperparameter_dtc,\n",
    "                               n_iter = 100, cv =5, scoring = 'accuracy', random_state = 0)\n",
    "dtc_random.fit(x_train, y_train)\n",
    "pprint(dtc_random.best_estimator_.get_params())"
   ]
  },
  {
   "cell_type": "code",
   "execution_count": null,
   "id": "1e77cc98",
   "metadata": {},
   "outputs": [],
   "source": [
    "from sklearn.tree import DecisionTreeClassifier\n",
    "\n",
    "hyperparameter_dtc = {'criterion' : ['entropy'],\n",
    "                      'max_depth' : [5],\n",
    "                      'min_samples_split' : [8],\n",
    "                      'min_samples_leaf' : [2]\n",
    "                     }\n",
    "\n",
    "dtc = DecisionTreeClassifier()\n",
    "dtc_random = RandomizedSearchCV(dtc, param_distributions = hyperparameter_dtc,\n",
    "                               n_iter = 100, cv =5, scoring = 'accuracy', random_state = 0)\n",
    "dtc_random.fit(x_train, y_train)\n",
    "dtc_predict = dtc_random.predict(x_test)\n",
    "\n",
    "print(classification_report(y_test, dtc_predict))"
   ]
  }
 ],
 "metadata": {
  "kernelspec": {
   "display_name": "Python 3",
   "language": "python",
   "name": "python3"
  },
  "language_info": {
   "codemirror_mode": {
    "name": "ipython",
    "version": 3
   },
   "file_extension": ".py",
   "mimetype": "text/x-python",
   "name": "python",
   "nbconvert_exporter": "python",
   "pygments_lexer": "ipython3",
   "version": "3.8.8"
  }
 },
 "nbformat": 4,
 "nbformat_minor": 5
}
